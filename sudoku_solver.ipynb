{
  "nbformat": 4,
  "nbformat_minor": 0,
  "metadata": {
    "colab": {
      "provenance": [],
      "authorship_tag": "ABX9TyO19oeXvTrSZGR/AzNUx/7w",
      "include_colab_link": true
    },
    "kernelspec": {
      "name": "python3",
      "display_name": "Python 3"
    },
    "language_info": {
      "name": "python"
    }
  },
  "cells": [
    {
      "cell_type": "markdown",
      "metadata": {
        "id": "view-in-github",
        "colab_type": "text"
      },
      "source": [
        "<a href=\"https://colab.research.google.com/github/aafrolov/codewars_python/blob/main/sudoku_solver.ipynb\" target=\"_parent\"><img src=\"https://colab.research.google.com/assets/colab-badge.svg\" alt=\"Open In Colab\"/></a>"
      ]
    },
    {
      "cell_type": "markdown",
      "source": [
        "https://www.codewars.com/kata/5296bc77afba8baa690002d7/train/python"
      ],
      "metadata": {
        "id": "3QxLx7bq-jpr"
      }
    },
    {
      "cell_type": "code",
      "source": [
        "def simple_checker_row_and_col(puzzle, position, decision):\n",
        "    if len(decision[position[0]][position[1]]) == 1:\n",
        "        return decision\n",
        "    # row\n",
        "    for i in range(9):\n",
        "        if len(decision[position[0]][i]) == 1:\n",
        "            if i == position[1]:\n",
        "                continue\n",
        "            if decision[position[0]][i][0] in decision[position[0]][position[1]]:\n",
        "                decision[position[0]][position[1]].remove(decision[position[0]][i][0])\n",
        "    # col\n",
        "    for i in range(9):\n",
        "        if len(decision[i][position[1]]) == 1:\n",
        "            if i == position[0]:\n",
        "                continue\n",
        "            if decision[i][position[1]][0] in decision[position[0]][position[1]]:\n",
        "                decision[position[0]][position[1]].remove(decision[i][position[1]][0])\n",
        "    #square\n",
        "    f = lambda x: x // 3 * 3\n",
        "    for i in range(f(position[0]), f(position[0]) + 3):\n",
        "        for j in range(f(position[1]), f(position[1]) + 3):\n",
        "            if len(decision[i][j]) == 1:\n",
        "                if i == position[0] and j == position[1]:\n",
        "                    continue\n",
        "                if decision[i][j][0] in decision[position[0]][position[1]]:\n",
        "                    decision[position[0]][position[1]].remove(decision[i][j][0])\n",
        "\n",
        "    return decision\n",
        "\n",
        "def decision_length(decision):\n",
        "    lenght = 0\n",
        "\n",
        "    for i in range(9):\n",
        "        for j in range(9):\n",
        "            lenght += len(decision[i][j])\n",
        "\n",
        "    return lenght"
      ],
      "metadata": {
        "id": "wrcD1VaD-8gz"
      },
      "execution_count": null,
      "outputs": []
    },
    {
      "cell_type": "code",
      "execution_count": null,
      "metadata": {
        "id": "UTTMkAmT-jTN"
      },
      "outputs": [],
      "source": [
        "def sudoku(puzzle):\n",
        "    # init result\n",
        "    decision = list()\n",
        "    for i in range(9):\n",
        "        tmp = list()\n",
        "        for j in range(9):\n",
        "            if puzzle[i][j] != 0:\n",
        "                tmp.append([puzzle[i][j]])\n",
        "            else:\n",
        "                tmp.append(list(range(1, 10)))\n",
        "        decision.append(tmp)\n",
        "\n",
        "    while decision_length(decision) != 81:\n",
        "        for i in range(9):\n",
        "            for j in range(9):\n",
        "                decision = simple_checker_row_and_col(puzzle, (i, j), decision)\n",
        "\n",
        "    for i in range(9):\n",
        "        for j in range(9):\n",
        "            puzzle[i][j] = decision[i][j][0]\n",
        "\n",
        "    \"\"\"return the solved puzzle as a 2d array of 9 x 9\"\"\"\n",
        "    return puzzle"
      ]
    },
    {
      "cell_type": "code",
      "source": [
        "puzzle = [[5,3,0,0,7,0,0,0,0],\n",
        "          [6,0,0,1,9,5,0,0,0],\n",
        "          [0,9,8,0,0,0,0,6,0],\n",
        "          [8,0,0,0,6,0,0,0,3],\n",
        "          [4,0,0,8,0,3,0,0,1],\n",
        "          [7,0,0,0,2,0,0,0,6],\n",
        "          [0,6,0,0,0,0,2,8,0],\n",
        "          [0,0,0,4,1,9,0,0,5],\n",
        "          [0,0,0,0,8,0,0,7,9]]\n",
        "\n",
        "sudoku(puzzle)"
      ],
      "metadata": {
        "colab": {
          "base_uri": "https://localhost:8080/"
        },
        "id": "B1wzNc8O-t60",
        "outputId": "0abe80df-d799-4031-ff9e-adb37af5ad37"
      },
      "execution_count": null,
      "outputs": [
        {
          "output_type": "stream",
          "name": "stdout",
          "text": [
            "[[[5], [3], [1, 2, 4], [2, 6], [7], [2, 4, 6, 8], [1, 4, 8, 9], [1, 2, 4, 9], [2, 4, 8]], [[6], [2, 4, 7], [2, 4, 7], [1], [9], [5], [3, 4, 7, 8], [2, 3, 4], [2, 4, 7, 8]], [[1, 2], [9], [8], [2, 3], [3, 4], [2, 4], [1, 3, 4, 5, 7], [6], [2, 4, 7]], [[8], [1, 2, 5], [1, 2, 5, 9], [5, 7, 9], [6], [1, 4, 7], [4, 5, 7, 9], [2, 4, 5, 9], [3]], [[4], [2, 5], [2, 5, 6, 9], [8], [5], [3], [7, 9], [2, 9], [1]], [[7], [1, 5], [1, 3, 5, 9], [9], [2], [1, 4], [4, 5, 8], [4, 5], [6]], [[1, 3, 9], [6], [1, 3, 4, 5, 7, 9], [3, 5, 7], [3], [7], [2], [8], [4]], [[2, 3], [2, 7, 8], [2, 3, 7], [4], [1], [9], [3, 6], [3], [5]], [[1, 2, 3], [1, 2, 4, 5], [1, 2, 3, 4, 5], [2, 5, 6], [8], [2, 6], [1, 6], [7], [9]]]\n",
            "[[[5], [3], [1, 2, 4], [2, 6], [7], [2, 4, 6, 8], [1, 4, 8, 9], [1, 2, 4, 9], [2, 8]], [[6], [2, 4, 7], [2, 4, 7], [1], [9], [5], [3, 4, 7, 8], [2, 4], [2, 7, 8]], [[1, 2], [9], [8], [2, 3], [4], [2], [1, 3, 5, 7], [6], [7]], [[8], [1, 2, 5], [1, 2, 5, 9], [7], [6], [1, 4], [4, 5, 9], [2, 4, 5, 9], [3]], [[4], [2], [6, 9], [8], [5], [3], [7, 9], [9], [1]], [[7], [1, 5], [1, 3, 5], [9], [2], [1, 4], [4, 5, 8], [4, 5], [6]], [[1, 9], [6], [1, 5, 9], [5], [3], [7], [2], [8], [4]], [[2], [7, 8], [7], [4], [1], [9], [6], [3], [5]], [[1, 3], [1, 4, 5], [1, 3, 4, 5], [2, 6], [8], [6], [1], [7], [9]]]\n",
            "[[[5], [3], [1, 2, 4], [6], [7], [8], [4, 9], [1, 2, 4], [2]], [[6], [4, 7], [2, 4], [1], [9], [5], [3, 4, 8], [4], [8]], [[1], [9], [8], [3], [4], [2], [5], [6], [7]], [[8], [1, 5], [1, 5, 9], [7], [6], [1, 4], [4], [2, 5], [3]], [[4], [2], [6], [8], [5], [3], [7], [9], [1]], [[7], [1, 5], [1, 3, 5], [9], [2], [1, 4], [8], [5], [6]], [[9], [6], [1], [5], [3], [7], [2], [8], [4]], [[2], [8], [7], [4], [1], [9], [6], [3], [5]], [[3], [4, 5], [4, 5], [2], [8], [6], [1], [7], [9]]]\n",
            "[[[5], [3], [4], [6], [7], [8], [9], [1], [2]], [[6], [7], [2], [1], [9], [5], [3], [4], [8]], [[1], [9], [8], [3], [4], [2], [5], [6], [7]], [[8], [1, 5], [5, 9], [7], [6], [1], [4], [2], [3]], [[4], [2], [6], [8], [5], [3], [7], [9], [1]], [[7], [1], [3], [9], [2], [4], [8], [5], [6]], [[9], [6], [1], [5], [3], [7], [2], [8], [4]], [[2], [8], [7], [4], [1], [9], [6], [3], [5]], [[3], [4, 5], [5], [2], [8], [6], [1], [7], [9]]]\n",
            "[[[5], [3], [4], [6], [7], [8], [9], [1], [2]], [[6], [7], [2], [1], [9], [5], [3], [4], [8]], [[1], [9], [8], [3], [4], [2], [5], [6], [7]], [[8], [5], [9], [7], [6], [1], [4], [2], [3]], [[4], [2], [6], [8], [5], [3], [7], [9], [1]], [[7], [1], [3], [9], [2], [4], [8], [5], [6]], [[9], [6], [1], [5], [3], [7], [2], [8], [4]], [[2], [8], [7], [4], [1], [9], [6], [3], [5]], [[3], [4], [5], [2], [8], [6], [1], [7], [9]]]\n"
          ]
        },
        {
          "output_type": "execute_result",
          "data": {
            "text/plain": [
              "[[5, 3, 4, 6, 7, 8, 9, 1, 2],\n",
              " [6, 7, 2, 1, 9, 5, 3, 4, 8],\n",
              " [1, 9, 8, 3, 4, 2, 5, 6, 7],\n",
              " [8, 5, 9, 7, 6, 1, 4, 2, 3],\n",
              " [4, 2, 6, 8, 5, 3, 7, 9, 1],\n",
              " [7, 1, 3, 9, 2, 4, 8, 5, 6],\n",
              " [9, 6, 1, 5, 3, 7, 2, 8, 4],\n",
              " [2, 8, 7, 4, 1, 9, 6, 3, 5],\n",
              " [3, 4, 5, 2, 8, 6, 1, 7, 9]]"
            ]
          },
          "metadata": {},
          "execution_count": 72
        }
      ]
    }
  ]
}